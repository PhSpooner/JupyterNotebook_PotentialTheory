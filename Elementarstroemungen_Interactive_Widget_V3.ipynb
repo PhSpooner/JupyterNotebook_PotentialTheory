{
 "cells": [
  {
   "cell_type": "code",
   "execution_count": 781,
   "metadata": {
    "collapsed": true,
    "extensions": {
     "jupyter_dashboards": {
      "version": 1,
      "views": {
       "grid_default": {
        "hidden": true
       },
       "report_default": {
        "hidden": true
       }
      }
     }
    }
   },
   "outputs": [],
   "source": [
    "import ipywidgets as widgets\n",
    "from IPython.display import display\n",
    "import numpy as np\n",
    "import matplotlib.pyplot as plt\n",
    "from ipywidgets import IntSlider, FloatSlider, Layout, Button, Box, HBox, VBox, HTML\n",
    "import pandas as pd\n",
    "\n",
    "\n",
    "\n",
    "%matplotlib nbagg\n",
    "%config InlineBackend.figure_format = 'svg'\n",
    "\n",
    "y = np.arange(-10,10,0.51) \n",
    "x = np.arange(-10,20,0.51)  \n",
    "alpha = -0*np.pi/180\n",
    "[X,Y]=np.meshgrid(x,y)\n",
    "r = np.sqrt(X**2+Y**2)\n",
    "theta = np.arctan(Y/X)\n",
    "u=np.zeros(X.shape)\n",
    "v=np.zeros(X.shape)\n",
    "C=np.zeros(X.shape)\n",
    "\n",
    "dens= IntSlider(min=1,max=10,value=5,description='density')\n",
    "line_width = FloatSlider(min=0.1,max=3,value=1,description='line width')   \n",
    "arrow_size = FloatSlider(min=0.1,max=3,value=1,description='arrow size')#, orientation='vertical')  \n",
    "quiver_arrow_scale = IntSlider(min=1,max=5,value=3,description='Quiver scale')#, orientation='vertical') \n",
    "\n",
    "u_inf = FloatSlider(min=0.1,max=10,value=1,description='u_inf')#, orientation='vertical')\n",
    "\n",
    "\n",
    "\n"
   ]
  },
  {
   "cell_type": "code",
   "execution_count": 782,
   "metadata": {
    "collapsed": true,
    "extensions": {
     "jupyter_dashboards": {
      "version": 1,
      "views": {
       "grid_default": {
        "hidden": true
       },
       "report_default": {
        "hidden": true
       }
      }
     }
    }
   },
   "outputs": [],
   "source": [
    "x0quell = FloatSlider(min=-10,max=20,value=3,description='X Quelle')#, orientation='vertical')\n",
    "y0quell = FloatSlider(min=-10,max=10,value=1,description='Y Quelle')#, orientation='vertical')\n",
    "Lquelle = FloatSlider(min=-10,max=10,value=2,description='\\\\(\\\\Lambda\\\\)')#'L Quelle')#, orientation='vertical') #-6*np.p, orientation='vertical'i\n"
   ]
  },
  {
   "cell_type": "code",
   "execution_count": 783,
   "metadata": {
    "collapsed": true,
    "extensions": {
     "jupyter_dashboards": {
      "version": 1,
      "views": {
       "grid_default": {
        "hidden": true
       },
       "report_default": {
        "hidden": true
       }
      }
     }
    }
   },
   "outputs": [],
   "source": [
    "x0senk = FloatSlider(min=-10,max=20,value=6,description='X Senke')#, orientation='vertical')\n",
    "y0senk = FloatSlider(min=-10,max=10,value=1,description='Y Senke')#, orientation='vertical')\n",
    "Lsenke = FloatSlider(min=-10,max=10,value=-2,description='\\\\(\\\\Lambda\\\\)')#, orientation='vertical') #-6*np.pi\n",
    "\n"
   ]
  },
  {
   "cell_type": "code",
   "execution_count": 784,
   "metadata": {
    "collapsed": true,
    "extensions": {
     "jupyter_dashboards": {
      "version": 1,
      "views": {
       "grid_default": {
        "hidden": true
       },
       "report_default": {
        "hidden": true
       }
      }
     }
    }
   },
   "outputs": [],
   "source": [
    "Radius = FloatSlider(min=0.1,max=10,value=2,description='Radius')#, orientation='vertical')\n",
    "x0dipol = FloatSlider(min=-10,max=20,value=6,description='X Dipol')#, orientation='vertical')\n",
    "y0dipol = FloatSlider(min=-10,max=10,value=1,description='Y Dipol')#, orientation='vertical')\n",
    "\n"
   ]
  },
  {
   "cell_type": "code",
   "execution_count": 785,
   "metadata": {
    "collapsed": true,
    "extensions": {
     "jupyter_dashboards": {
      "version": 1,
      "views": {
       "grid_default": {
        "hidden": true
       },
       "report_default": {
        "hidden": true
       }
      }
     }
    }
   },
   "outputs": [],
   "source": [
    "Radius2 = FloatSlider(min=0.1,max=10,value=2,description='Radius 2')#, orientation='vertical')\n",
    "x0dipol2 = FloatSlider(min=-10,max=20,value=6,description='X Dipol 2')#, orientation='vertical')\n",
    "y0dipol2 = FloatSlider(min=-10,max=10,value=1,description='Y Dipol 2')#, orientation='vertical')"
   ]
  },
  {
   "cell_type": "code",
   "execution_count": 786,
   "metadata": {
    "collapsed": true,
    "extensions": {
     "jupyter_dashboards": {
      "version": 1,
      "views": {
       "grid_default": {
        "hidden": true
       },
       "report_default": {
        "hidden": true
       }
      }
     }
    }
   },
   "outputs": [],
   "source": [
    "Gamma_Wirbel = FloatSlider(min=-10,max=10,value=1,description='\\\\(\\\\Gamma\\\\)')#, orientation='vertical')\n",
    "x0wirbel = FloatSlider(min=-10,max=20,value=6,description='X Wirbel')#, orientation='vertical')\n",
    "y0wirbel = FloatSlider(min=-10,max=10,value=1,description='Y Wirbel')#, orientation='vertical')"
   ]
  },
  {
   "cell_type": "code",
   "execution_count": 787,
   "metadata": {
    "collapsed": true,
    "extensions": {
     "jupyter_dashboards": {
      "version": 1,
      "views": {
       "grid_default": {
        "hidden": true
       },
       "report_default": {
        "hidden": true
       }
      }
     }
    }
   },
   "outputs": [],
   "source": [
    "Gamma_Wirbel2 = FloatSlider(min=-10,max=10,value=1,description='\\\\(\\\\Gamma\\\\)')#, orientation='vertical')\n",
    "x0wirbel2 = FloatSlider(min=-10,max=20,value=6,description='X Wirbel 2')#, orientation='vertical')\n",
    "y0wirbel2 = FloatSlider(min=-10,max=10,value=1,description='Y Wirbel 2')#, orientation='vertical')"
   ]
  },
  {
   "cell_type": "code",
   "execution_count": 788,
   "metadata": {
    "extensions": {
     "jupyter_dashboards": {
      "version": 1,
      "views": {
       "grid_default": {
        "col": 0,
        "height": 17,
        "hidden": false,
        "row": 0,
        "width": 8
       },
       "report_default": {}
      }
     }
    }
   },
   "outputs": [
    {
     "data": {
      "application/javascript": [
       "/* Put everything inside the global mpl namespace */\n",
       "window.mpl = {};\n",
       "\n",
       "\n",
       "mpl.get_websocket_type = function() {\n",
       "    if (typeof(WebSocket) !== 'undefined') {\n",
       "        return WebSocket;\n",
       "    } else if (typeof(MozWebSocket) !== 'undefined') {\n",
       "        return MozWebSocket;\n",
       "    } else {\n",
       "        alert('Your browser does not have WebSocket support.' +\n",
       "              'Please try Chrome, Safari or Firefox ≥ 6. ' +\n",
       "              'Firefox 4 and 5 are also supported but you ' +\n",
       "              'have to enable WebSockets in about:config.');\n",
       "    };\n",
       "}\n",
       "\n",
       "mpl.figure = function(figure_id, websocket, ondownload, parent_element) {\n",
       "    this.id = figure_id;\n",
       "\n",
       "    this.ws = websocket;\n",
       "\n",
       "    this.supports_binary = (this.ws.binaryType != undefined);\n",
       "\n",
       "    if (!this.supports_binary) {\n",
       "        var warnings = document.getElementById(\"mpl-warnings\");\n",
       "        if (warnings) {\n",
       "            warnings.style.display = 'block';\n",
       "            warnings.textContent = (\n",
       "                \"This browser does not support binary websocket messages. \" +\n",
       "                    \"Performance may be slow.\");\n",
       "        }\n",
       "    }\n",
       "\n",
       "    this.imageObj = new Image();\n",
       "\n",
       "    this.context = undefined;\n",
       "    this.message = undefined;\n",
       "    this.canvas = undefined;\n",
       "    this.rubberband_canvas = undefined;\n",
       "    this.rubberband_context = undefined;\n",
       "    this.format_dropdown = undefined;\n",
       "\n",
       "    this.image_mode = 'full';\n",
       "\n",
       "    this.root = $('<div/>');\n",
       "    this._root_extra_style(this.root)\n",
       "    this.root.attr('style', 'display: inline-block');\n",
       "\n",
       "    $(parent_element).append(this.root);\n",
       "\n",
       "    this._init_header(this);\n",
       "    this._init_canvas(this);\n",
       "    this._init_toolbar(this);\n",
       "\n",
       "    var fig = this;\n",
       "\n",
       "    this.waiting = false;\n",
       "\n",
       "    this.ws.onopen =  function () {\n",
       "            fig.send_message(\"supports_binary\", {value: fig.supports_binary});\n",
       "            fig.send_message(\"send_image_mode\", {});\n",
       "            if (mpl.ratio != 1) {\n",
       "                fig.send_message(\"set_dpi_ratio\", {'dpi_ratio': mpl.ratio});\n",
       "            }\n",
       "            fig.send_message(\"refresh\", {});\n",
       "        }\n",
       "\n",
       "    this.imageObj.onload = function() {\n",
       "            if (fig.image_mode == 'full') {\n",
       "                // Full images could contain transparency (where diff images\n",
       "                // almost always do), so we need to clear the canvas so that\n",
       "                // there is no ghosting.\n",
       "                fig.context.clearRect(0, 0, fig.canvas.width, fig.canvas.height);\n",
       "            }\n",
       "            fig.context.drawImage(fig.imageObj, 0, 0);\n",
       "        };\n",
       "\n",
       "    this.imageObj.onunload = function() {\n",
       "        this.ws.close();\n",
       "    }\n",
       "\n",
       "    this.ws.onmessage = this._make_on_message_function(this);\n",
       "\n",
       "    this.ondownload = ondownload;\n",
       "}\n",
       "\n",
       "mpl.figure.prototype._init_header = function() {\n",
       "    var titlebar = $(\n",
       "        '<div class=\"ui-dialog-titlebar ui-widget-header ui-corner-all ' +\n",
       "        'ui-helper-clearfix\"/>');\n",
       "    var titletext = $(\n",
       "        '<div class=\"ui-dialog-title\" style=\"width: 100%; ' +\n",
       "        'text-align: center; padding: 3px;\"/>');\n",
       "    titlebar.append(titletext)\n",
       "    this.root.append(titlebar);\n",
       "    this.header = titletext[0];\n",
       "}\n",
       "\n",
       "\n",
       "\n",
       "mpl.figure.prototype._canvas_extra_style = function(canvas_div) {\n",
       "\n",
       "}\n",
       "\n",
       "\n",
       "mpl.figure.prototype._root_extra_style = function(canvas_div) {\n",
       "\n",
       "}\n",
       "\n",
       "mpl.figure.prototype._init_canvas = function() {\n",
       "    var fig = this;\n",
       "\n",
       "    var canvas_div = $('<div/>');\n",
       "\n",
       "    canvas_div.attr('style', 'position: relative; clear: both; outline: 0');\n",
       "\n",
       "    function canvas_keyboard_event(event) {\n",
       "        return fig.key_event(event, event['data']);\n",
       "    }\n",
       "\n",
       "    canvas_div.keydown('key_press', canvas_keyboard_event);\n",
       "    canvas_div.keyup('key_release', canvas_keyboard_event);\n",
       "    this.canvas_div = canvas_div\n",
       "    this._canvas_extra_style(canvas_div)\n",
       "    this.root.append(canvas_div);\n",
       "\n",
       "    var canvas = $('<canvas/>');\n",
       "    canvas.addClass('mpl-canvas');\n",
       "    canvas.attr('style', \"left: 0; top: 0; z-index: 0; outline: 0\")\n",
       "\n",
       "    this.canvas = canvas[0];\n",
       "    this.context = canvas[0].getContext(\"2d\");\n",
       "\n",
       "    var backingStore = this.context.backingStorePixelRatio ||\n",
       "\tthis.context.webkitBackingStorePixelRatio ||\n",
       "\tthis.context.mozBackingStorePixelRatio ||\n",
       "\tthis.context.msBackingStorePixelRatio ||\n",
       "\tthis.context.oBackingStorePixelRatio ||\n",
       "\tthis.context.backingStorePixelRatio || 1;\n",
       "\n",
       "    mpl.ratio = (window.devicePixelRatio || 1) / backingStore;\n",
       "\n",
       "    var rubberband = $('<canvas/>');\n",
       "    rubberband.attr('style', \"position: absolute; left: 0; top: 0; z-index: 1;\")\n",
       "\n",
       "    var pass_mouse_events = true;\n",
       "\n",
       "    canvas_div.resizable({\n",
       "        start: function(event, ui) {\n",
       "            pass_mouse_events = false;\n",
       "        },\n",
       "        resize: function(event, ui) {\n",
       "            fig.request_resize(ui.size.width, ui.size.height);\n",
       "        },\n",
       "        stop: function(event, ui) {\n",
       "            pass_mouse_events = true;\n",
       "            fig.request_resize(ui.size.width, ui.size.height);\n",
       "        },\n",
       "    });\n",
       "\n",
       "    function mouse_event_fn(event) {\n",
       "        if (pass_mouse_events)\n",
       "            return fig.mouse_event(event, event['data']);\n",
       "    }\n",
       "\n",
       "    rubberband.mousedown('button_press', mouse_event_fn);\n",
       "    rubberband.mouseup('button_release', mouse_event_fn);\n",
       "    // Throttle sequential mouse events to 1 every 20ms.\n",
       "    rubberband.mousemove('motion_notify', mouse_event_fn);\n",
       "\n",
       "    rubberband.mouseenter('figure_enter', mouse_event_fn);\n",
       "    rubberband.mouseleave('figure_leave', mouse_event_fn);\n",
       "\n",
       "    canvas_div.on(\"wheel\", function (event) {\n",
       "        event = event.originalEvent;\n",
       "        event['data'] = 'scroll'\n",
       "        if (event.deltaY < 0) {\n",
       "            event.step = 1;\n",
       "        } else {\n",
       "            event.step = -1;\n",
       "        }\n",
       "        mouse_event_fn(event);\n",
       "    });\n",
       "\n",
       "    canvas_div.append(canvas);\n",
       "    canvas_div.append(rubberband);\n",
       "\n",
       "    this.rubberband = rubberband;\n",
       "    this.rubberband_canvas = rubberband[0];\n",
       "    this.rubberband_context = rubberband[0].getContext(\"2d\");\n",
       "    this.rubberband_context.strokeStyle = \"#000000\";\n",
       "\n",
       "    this._resize_canvas = function(width, height) {\n",
       "        // Keep the size of the canvas, canvas container, and rubber band\n",
       "        // canvas in synch.\n",
       "        canvas_div.css('width', width)\n",
       "        canvas_div.css('height', height)\n",
       "\n",
       "        canvas.attr('width', width * mpl.ratio);\n",
       "        canvas.attr('height', height * mpl.ratio);\n",
       "        canvas.attr('style', 'width: ' + width + 'px; height: ' + height + 'px;');\n",
       "\n",
       "        rubberband.attr('width', width);\n",
       "        rubberband.attr('height', height);\n",
       "    }\n",
       "\n",
       "    // Set the figure to an initial 600x600px, this will subsequently be updated\n",
       "    // upon first draw.\n",
       "    this._resize_canvas(600, 600);\n",
       "\n",
       "    // Disable right mouse context menu.\n",
       "    $(this.rubberband_canvas).bind(\"contextmenu\",function(e){\n",
       "        return false;\n",
       "    });\n",
       "\n",
       "    function set_focus () {\n",
       "        canvas.focus();\n",
       "        canvas_div.focus();\n",
       "    }\n",
       "\n",
       "    window.setTimeout(set_focus, 100);\n",
       "}\n",
       "\n",
       "mpl.figure.prototype._init_toolbar = function() {\n",
       "    var fig = this;\n",
       "\n",
       "    var nav_element = $('<div/>')\n",
       "    nav_element.attr('style', 'width: 100%');\n",
       "    this.root.append(nav_element);\n",
       "\n",
       "    // Define a callback function for later on.\n",
       "    function toolbar_event(event) {\n",
       "        return fig.toolbar_button_onclick(event['data']);\n",
       "    }\n",
       "    function toolbar_mouse_event(event) {\n",
       "        return fig.toolbar_button_onmouseover(event['data']);\n",
       "    }\n",
       "\n",
       "    for(var toolbar_ind in mpl.toolbar_items) {\n",
       "        var name = mpl.toolbar_items[toolbar_ind][0];\n",
       "        var tooltip = mpl.toolbar_items[toolbar_ind][1];\n",
       "        var image = mpl.toolbar_items[toolbar_ind][2];\n",
       "        var method_name = mpl.toolbar_items[toolbar_ind][3];\n",
       "\n",
       "        if (!name) {\n",
       "            // put a spacer in here.\n",
       "            continue;\n",
       "        }\n",
       "        var button = $('<button/>');\n",
       "        button.addClass('ui-button ui-widget ui-state-default ui-corner-all ' +\n",
       "                        'ui-button-icon-only');\n",
       "        button.attr('role', 'button');\n",
       "        button.attr('aria-disabled', 'false');\n",
       "        button.click(method_name, toolbar_event);\n",
       "        button.mouseover(tooltip, toolbar_mouse_event);\n",
       "\n",
       "        var icon_img = $('<span/>');\n",
       "        icon_img.addClass('ui-button-icon-primary ui-icon');\n",
       "        icon_img.addClass(image);\n",
       "        icon_img.addClass('ui-corner-all');\n",
       "\n",
       "        var tooltip_span = $('<span/>');\n",
       "        tooltip_span.addClass('ui-button-text');\n",
       "        tooltip_span.html(tooltip);\n",
       "\n",
       "        button.append(icon_img);\n",
       "        button.append(tooltip_span);\n",
       "\n",
       "        nav_element.append(button);\n",
       "    }\n",
       "\n",
       "    var fmt_picker_span = $('<span/>');\n",
       "\n",
       "    var fmt_picker = $('<select/>');\n",
       "    fmt_picker.addClass('mpl-toolbar-option ui-widget ui-widget-content');\n",
       "    fmt_picker_span.append(fmt_picker);\n",
       "    nav_element.append(fmt_picker_span);\n",
       "    this.format_dropdown = fmt_picker[0];\n",
       "\n",
       "    for (var ind in mpl.extensions) {\n",
       "        var fmt = mpl.extensions[ind];\n",
       "        var option = $(\n",
       "            '<option/>', {selected: fmt === mpl.default_extension}).html(fmt);\n",
       "        fmt_picker.append(option)\n",
       "    }\n",
       "\n",
       "    // Add hover states to the ui-buttons\n",
       "    $( \".ui-button\" ).hover(\n",
       "        function() { $(this).addClass(\"ui-state-hover\");},\n",
       "        function() { $(this).removeClass(\"ui-state-hover\");}\n",
       "    );\n",
       "\n",
       "    var status_bar = $('<span class=\"mpl-message\"/>');\n",
       "    nav_element.append(status_bar);\n",
       "    this.message = status_bar[0];\n",
       "}\n",
       "\n",
       "mpl.figure.prototype.request_resize = function(x_pixels, y_pixels) {\n",
       "    // Request matplotlib to resize the figure. Matplotlib will then trigger a resize in the client,\n",
       "    // which will in turn request a refresh of the image.\n",
       "    this.send_message('resize', {'width': x_pixels, 'height': y_pixels});\n",
       "}\n",
       "\n",
       "mpl.figure.prototype.send_message = function(type, properties) {\n",
       "    properties['type'] = type;\n",
       "    properties['figure_id'] = this.id;\n",
       "    this.ws.send(JSON.stringify(properties));\n",
       "}\n",
       "\n",
       "mpl.figure.prototype.send_draw_message = function() {\n",
       "    if (!this.waiting) {\n",
       "        this.waiting = true;\n",
       "        this.ws.send(JSON.stringify({type: \"draw\", figure_id: this.id}));\n",
       "    }\n",
       "}\n",
       "\n",
       "\n",
       "mpl.figure.prototype.handle_save = function(fig, msg) {\n",
       "    var format_dropdown = fig.format_dropdown;\n",
       "    var format = format_dropdown.options[format_dropdown.selectedIndex].value;\n",
       "    fig.ondownload(fig, format);\n",
       "}\n",
       "\n",
       "\n",
       "mpl.figure.prototype.handle_resize = function(fig, msg) {\n",
       "    var size = msg['size'];\n",
       "    if (size[0] != fig.canvas.width || size[1] != fig.canvas.height) {\n",
       "        fig._resize_canvas(size[0], size[1]);\n",
       "        fig.send_message(\"refresh\", {});\n",
       "    };\n",
       "}\n",
       "\n",
       "mpl.figure.prototype.handle_rubberband = function(fig, msg) {\n",
       "    var x0 = msg['x0'] / mpl.ratio;\n",
       "    var y0 = (fig.canvas.height - msg['y0']) / mpl.ratio;\n",
       "    var x1 = msg['x1'] / mpl.ratio;\n",
       "    var y1 = (fig.canvas.height - msg['y1']) / mpl.ratio;\n",
       "    x0 = Math.floor(x0) + 0.5;\n",
       "    y0 = Math.floor(y0) + 0.5;\n",
       "    x1 = Math.floor(x1) + 0.5;\n",
       "    y1 = Math.floor(y1) + 0.5;\n",
       "    var min_x = Math.min(x0, x1);\n",
       "    var min_y = Math.min(y0, y1);\n",
       "    var width = Math.abs(x1 - x0);\n",
       "    var height = Math.abs(y1 - y0);\n",
       "\n",
       "    fig.rubberband_context.clearRect(\n",
       "        0, 0, fig.canvas.width, fig.canvas.height);\n",
       "\n",
       "    fig.rubberband_context.strokeRect(min_x, min_y, width, height);\n",
       "}\n",
       "\n",
       "mpl.figure.prototype.handle_figure_label = function(fig, msg) {\n",
       "    // Updates the figure title.\n",
       "    fig.header.textContent = msg['label'];\n",
       "}\n",
       "\n",
       "mpl.figure.prototype.handle_cursor = function(fig, msg) {\n",
       "    var cursor = msg['cursor'];\n",
       "    switch(cursor)\n",
       "    {\n",
       "    case 0:\n",
       "        cursor = 'pointer';\n",
       "        break;\n",
       "    case 1:\n",
       "        cursor = 'default';\n",
       "        break;\n",
       "    case 2:\n",
       "        cursor = 'crosshair';\n",
       "        break;\n",
       "    case 3:\n",
       "        cursor = 'move';\n",
       "        break;\n",
       "    }\n",
       "    fig.rubberband_canvas.style.cursor = cursor;\n",
       "}\n",
       "\n",
       "mpl.figure.prototype.handle_message = function(fig, msg) {\n",
       "    fig.message.textContent = msg['message'];\n",
       "}\n",
       "\n",
       "mpl.figure.prototype.handle_draw = function(fig, msg) {\n",
       "    // Request the server to send over a new figure.\n",
       "    fig.send_draw_message();\n",
       "}\n",
       "\n",
       "mpl.figure.prototype.handle_image_mode = function(fig, msg) {\n",
       "    fig.image_mode = msg['mode'];\n",
       "}\n",
       "\n",
       "mpl.figure.prototype.updated_canvas_event = function() {\n",
       "    // Called whenever the canvas gets updated.\n",
       "    this.send_message(\"ack\", {});\n",
       "}\n",
       "\n",
       "// A function to construct a web socket function for onmessage handling.\n",
       "// Called in the figure constructor.\n",
       "mpl.figure.prototype._make_on_message_function = function(fig) {\n",
       "    return function socket_on_message(evt) {\n",
       "        if (evt.data instanceof Blob) {\n",
       "            /* FIXME: We get \"Resource interpreted as Image but\n",
       "             * transferred with MIME type text/plain:\" errors on\n",
       "             * Chrome.  But how to set the MIME type?  It doesn't seem\n",
       "             * to be part of the websocket stream */\n",
       "            evt.data.type = \"image/png\";\n",
       "\n",
       "            /* Free the memory for the previous frames */\n",
       "            if (fig.imageObj.src) {\n",
       "                (window.URL || window.webkitURL).revokeObjectURL(\n",
       "                    fig.imageObj.src);\n",
       "            }\n",
       "\n",
       "            fig.imageObj.src = (window.URL || window.webkitURL).createObjectURL(\n",
       "                evt.data);\n",
       "            fig.updated_canvas_event();\n",
       "            fig.waiting = false;\n",
       "            return;\n",
       "        }\n",
       "        else if (typeof evt.data === 'string' && evt.data.slice(0, 21) == \"data:image/png;base64\") {\n",
       "            fig.imageObj.src = evt.data;\n",
       "            fig.updated_canvas_event();\n",
       "            fig.waiting = false;\n",
       "            return;\n",
       "        }\n",
       "\n",
       "        var msg = JSON.parse(evt.data);\n",
       "        var msg_type = msg['type'];\n",
       "\n",
       "        // Call the  \"handle_{type}\" callback, which takes\n",
       "        // the figure and JSON message as its only arguments.\n",
       "        try {\n",
       "            var callback = fig[\"handle_\" + msg_type];\n",
       "        } catch (e) {\n",
       "            console.log(\"No handler for the '\" + msg_type + \"' message type: \", msg);\n",
       "            return;\n",
       "        }\n",
       "\n",
       "        if (callback) {\n",
       "            try {\n",
       "                // console.log(\"Handling '\" + msg_type + \"' message: \", msg);\n",
       "                callback(fig, msg);\n",
       "            } catch (e) {\n",
       "                console.log(\"Exception inside the 'handler_\" + msg_type + \"' callback:\", e, e.stack, msg);\n",
       "            }\n",
       "        }\n",
       "    };\n",
       "}\n",
       "\n",
       "// from http://stackoverflow.com/questions/1114465/getting-mouse-location-in-canvas\n",
       "mpl.findpos = function(e) {\n",
       "    //this section is from http://www.quirksmode.org/js/events_properties.html\n",
       "    var targ;\n",
       "    if (!e)\n",
       "        e = window.event;\n",
       "    if (e.target)\n",
       "        targ = e.target;\n",
       "    else if (e.srcElement)\n",
       "        targ = e.srcElement;\n",
       "    if (targ.nodeType == 3) // defeat Safari bug\n",
       "        targ = targ.parentNode;\n",
       "\n",
       "    // jQuery normalizes the pageX and pageY\n",
       "    // pageX,Y are the mouse positions relative to the document\n",
       "    // offset() returns the position of the element relative to the document\n",
       "    var x = e.pageX - $(targ).offset().left;\n",
       "    var y = e.pageY - $(targ).offset().top;\n",
       "\n",
       "    return {\"x\": x, \"y\": y};\n",
       "};\n",
       "\n",
       "/*\n",
       " * return a copy of an object with only non-object keys\n",
       " * we need this to avoid circular references\n",
       " * http://stackoverflow.com/a/24161582/3208463\n",
       " */\n",
       "function simpleKeys (original) {\n",
       "  return Object.keys(original).reduce(function (obj, key) {\n",
       "    if (typeof original[key] !== 'object')\n",
       "        obj[key] = original[key]\n",
       "    return obj;\n",
       "  }, {});\n",
       "}\n",
       "\n",
       "mpl.figure.prototype.mouse_event = function(event, name) {\n",
       "    var canvas_pos = mpl.findpos(event)\n",
       "\n",
       "    if (name === 'button_press')\n",
       "    {\n",
       "        this.canvas.focus();\n",
       "        this.canvas_div.focus();\n",
       "    }\n",
       "\n",
       "    var x = canvas_pos.x * mpl.ratio;\n",
       "    var y = canvas_pos.y * mpl.ratio;\n",
       "\n",
       "    this.send_message(name, {x: x, y: y, button: event.button,\n",
       "                             step: event.step,\n",
       "                             guiEvent: simpleKeys(event)});\n",
       "\n",
       "    /* This prevents the web browser from automatically changing to\n",
       "     * the text insertion cursor when the button is pressed.  We want\n",
       "     * to control all of the cursor setting manually through the\n",
       "     * 'cursor' event from matplotlib */\n",
       "    event.preventDefault();\n",
       "    return false;\n",
       "}\n",
       "\n",
       "mpl.figure.prototype._key_event_extra = function(event, name) {\n",
       "    // Handle any extra behaviour associated with a key event\n",
       "}\n",
       "\n",
       "mpl.figure.prototype.key_event = function(event, name) {\n",
       "\n",
       "    // Prevent repeat events\n",
       "    if (name == 'key_press')\n",
       "    {\n",
       "        if (event.which === this._key)\n",
       "            return;\n",
       "        else\n",
       "            this._key = event.which;\n",
       "    }\n",
       "    if (name == 'key_release')\n",
       "        this._key = null;\n",
       "\n",
       "    var value = '';\n",
       "    if (event.ctrlKey && event.which != 17)\n",
       "        value += \"ctrl+\";\n",
       "    if (event.altKey && event.which != 18)\n",
       "        value += \"alt+\";\n",
       "    if (event.shiftKey && event.which != 16)\n",
       "        value += \"shift+\";\n",
       "\n",
       "    value += 'k';\n",
       "    value += event.which.toString();\n",
       "\n",
       "    this._key_event_extra(event, name);\n",
       "\n",
       "    this.send_message(name, {key: value,\n",
       "                             guiEvent: simpleKeys(event)});\n",
       "    return false;\n",
       "}\n",
       "\n",
       "mpl.figure.prototype.toolbar_button_onclick = function(name) {\n",
       "    if (name == 'download') {\n",
       "        this.handle_save(this, null);\n",
       "    } else {\n",
       "        this.send_message(\"toolbar_button\", {name: name});\n",
       "    }\n",
       "};\n",
       "\n",
       "mpl.figure.prototype.toolbar_button_onmouseover = function(tooltip) {\n",
       "    this.message.textContent = tooltip;\n",
       "};\n",
       "mpl.toolbar_items = [[\"Home\", \"Reset original view\", \"fa fa-home icon-home\", \"home\"], [\"Back\", \"Back to  previous view\", \"fa fa-arrow-left icon-arrow-left\", \"back\"], [\"Forward\", \"Forward to next view\", \"fa fa-arrow-right icon-arrow-right\", \"forward\"], [\"\", \"\", \"\", \"\"], [\"Pan\", \"Pan axes with left mouse, zoom with right\", \"fa fa-arrows icon-move\", \"pan\"], [\"Zoom\", \"Zoom to rectangle\", \"fa fa-square-o icon-check-empty\", \"zoom\"], [\"\", \"\", \"\", \"\"], [\"Download\", \"Download plot\", \"fa fa-floppy-o icon-save\", \"download\"]];\n",
       "\n",
       "mpl.extensions = [\"eps\", \"jpeg\", \"pdf\", \"png\", \"ps\", \"raw\", \"svg\", \"tif\"];\n",
       "\n",
       "mpl.default_extension = \"png\";var comm_websocket_adapter = function(comm) {\n",
       "    // Create a \"websocket\"-like object which calls the given IPython comm\n",
       "    // object with the appropriate methods. Currently this is a non binary\n",
       "    // socket, so there is still some room for performance tuning.\n",
       "    var ws = {};\n",
       "\n",
       "    ws.close = function() {\n",
       "        comm.close()\n",
       "    };\n",
       "    ws.send = function(m) {\n",
       "        //console.log('sending', m);\n",
       "        comm.send(m);\n",
       "    };\n",
       "    // Register the callback with on_msg.\n",
       "    comm.on_msg(function(msg) {\n",
       "        //console.log('receiving', msg['content']['data'], msg);\n",
       "        // Pass the mpl event to the overriden (by mpl) onmessage function.\n",
       "        ws.onmessage(msg['content']['data'])\n",
       "    });\n",
       "    return ws;\n",
       "}\n",
       "\n",
       "mpl.mpl_figure_comm = function(comm, msg) {\n",
       "    // This is the function which gets called when the mpl process\n",
       "    // starts-up an IPython Comm through the \"matplotlib\" channel.\n",
       "\n",
       "    var id = msg.content.data.id;\n",
       "    // Get hold of the div created by the display call when the Comm\n",
       "    // socket was opened in Python.\n",
       "    var element = $(\"#\" + id);\n",
       "    var ws_proxy = comm_websocket_adapter(comm)\n",
       "\n",
       "    function ondownload(figure, format) {\n",
       "        window.open(figure.imageObj.src);\n",
       "    }\n",
       "\n",
       "    var fig = new mpl.figure(id, ws_proxy,\n",
       "                           ondownload,\n",
       "                           element.get(0));\n",
       "\n",
       "    // Call onopen now - mpl needs it, as it is assuming we've passed it a real\n",
       "    // web socket which is closed, not our websocket->open comm proxy.\n",
       "    ws_proxy.onopen();\n",
       "\n",
       "    fig.parent_element = element.get(0);\n",
       "    fig.cell_info = mpl.find_output_cell(\"<div id='\" + id + \"'></div>\");\n",
       "    if (!fig.cell_info) {\n",
       "        console.error(\"Failed to find cell for figure\", id, fig);\n",
       "        return;\n",
       "    }\n",
       "\n",
       "    var output_index = fig.cell_info[2]\n",
       "    var cell = fig.cell_info[0];\n",
       "\n",
       "};\n",
       "\n",
       "mpl.figure.prototype.handle_close = function(fig, msg) {\n",
       "    var width = fig.canvas.width/mpl.ratio\n",
       "    fig.root.unbind('remove')\n",
       "\n",
       "    // Update the output cell to use the data from the current canvas.\n",
       "    fig.push_to_output();\n",
       "    var dataURL = fig.canvas.toDataURL();\n",
       "    // Re-enable the keyboard manager in IPython - without this line, in FF,\n",
       "    // the notebook keyboard shortcuts fail.\n",
       "    IPython.keyboard_manager.enable()\n",
       "    $(fig.parent_element).html('<img src=\"' + dataURL + '\" width=\"' + width + '\">');\n",
       "    fig.close_ws(fig, msg);\n",
       "}\n",
       "\n",
       "mpl.figure.prototype.close_ws = function(fig, msg){\n",
       "    fig.send_message('closing', msg);\n",
       "    // fig.ws.close()\n",
       "}\n",
       "\n",
       "mpl.figure.prototype.push_to_output = function(remove_interactive) {\n",
       "    // Turn the data on the canvas into data in the output cell.\n",
       "    var width = this.canvas.width/mpl.ratio\n",
       "    var dataURL = this.canvas.toDataURL();\n",
       "    this.cell_info[1]['text/html'] = '<img src=\"' + dataURL + '\" width=\"' + width + '\">';\n",
       "}\n",
       "\n",
       "mpl.figure.prototype.updated_canvas_event = function() {\n",
       "    // Tell IPython that the notebook contents must change.\n",
       "    IPython.notebook.set_dirty(true);\n",
       "    this.send_message(\"ack\", {});\n",
       "    var fig = this;\n",
       "    // Wait a second, then push the new image to the DOM so\n",
       "    // that it is saved nicely (might be nice to debounce this).\n",
       "    setTimeout(function () { fig.push_to_output() }, 1000);\n",
       "}\n",
       "\n",
       "mpl.figure.prototype._init_toolbar = function() {\n",
       "    var fig = this;\n",
       "\n",
       "    var nav_element = $('<div/>')\n",
       "    nav_element.attr('style', 'width: 100%');\n",
       "    this.root.append(nav_element);\n",
       "\n",
       "    // Define a callback function for later on.\n",
       "    function toolbar_event(event) {\n",
       "        return fig.toolbar_button_onclick(event['data']);\n",
       "    }\n",
       "    function toolbar_mouse_event(event) {\n",
       "        return fig.toolbar_button_onmouseover(event['data']);\n",
       "    }\n",
       "\n",
       "    for(var toolbar_ind in mpl.toolbar_items){\n",
       "        var name = mpl.toolbar_items[toolbar_ind][0];\n",
       "        var tooltip = mpl.toolbar_items[toolbar_ind][1];\n",
       "        var image = mpl.toolbar_items[toolbar_ind][2];\n",
       "        var method_name = mpl.toolbar_items[toolbar_ind][3];\n",
       "\n",
       "        if (!name) { continue; };\n",
       "\n",
       "        var button = $('<button class=\"btn btn-default\" href=\"#\" title=\"' + name + '\"><i class=\"fa ' + image + ' fa-lg\"></i></button>');\n",
       "        button.click(method_name, toolbar_event);\n",
       "        button.mouseover(tooltip, toolbar_mouse_event);\n",
       "        nav_element.append(button);\n",
       "    }\n",
       "\n",
       "    // Add the status bar.\n",
       "    var status_bar = $('<span class=\"mpl-message\" style=\"text-align:right; float: right;\"/>');\n",
       "    nav_element.append(status_bar);\n",
       "    this.message = status_bar[0];\n",
       "\n",
       "    // Add the close button to the window.\n",
       "    var buttongrp = $('<div class=\"btn-group inline pull-right\"></div>');\n",
       "    var button = $('<button class=\"btn btn-mini btn-primary\" href=\"#\" title=\"Stop Interaction\"><i class=\"fa fa-power-off icon-remove icon-large\"></i></button>');\n",
       "    button.click(function (evt) { fig.handle_close(fig, {}); } );\n",
       "    button.mouseover('Stop Interaction', toolbar_mouse_event);\n",
       "    buttongrp.append(button);\n",
       "    var titlebar = this.root.find($('.ui-dialog-titlebar'));\n",
       "    titlebar.prepend(buttongrp);\n",
       "}\n",
       "\n",
       "mpl.figure.prototype._root_extra_style = function(el){\n",
       "    var fig = this\n",
       "    el.on(\"remove\", function(){\n",
       "\tfig.close_ws(fig, {});\n",
       "    });\n",
       "}\n",
       "\n",
       "mpl.figure.prototype._canvas_extra_style = function(el){\n",
       "    // this is important to make the div 'focusable\n",
       "    el.attr('tabindex', 0)\n",
       "    // reach out to IPython and tell the keyboard manager to turn it's self\n",
       "    // off when our div gets focus\n",
       "\n",
       "    // location in version 3\n",
       "    if (IPython.notebook.keyboard_manager) {\n",
       "        IPython.notebook.keyboard_manager.register_events(el);\n",
       "    }\n",
       "    else {\n",
       "        // location in version 2\n",
       "        IPython.keyboard_manager.register_events(el);\n",
       "    }\n",
       "\n",
       "}\n",
       "\n",
       "mpl.figure.prototype._key_event_extra = function(event, name) {\n",
       "    var manager = IPython.notebook.keyboard_manager;\n",
       "    if (!manager)\n",
       "        manager = IPython.keyboard_manager;\n",
       "\n",
       "    // Check for shift+enter\n",
       "    if (event.shiftKey && event.which == 13) {\n",
       "        this.canvas_div.blur();\n",
       "        // select the cell after this one\n",
       "        var index = IPython.notebook.find_cell_index(this.cell_info[0]);\n",
       "        IPython.notebook.select(index + 1);\n",
       "    }\n",
       "}\n",
       "\n",
       "mpl.figure.prototype.handle_save = function(fig, msg) {\n",
       "    fig.ondownload(fig, null);\n",
       "}\n",
       "\n",
       "\n",
       "mpl.find_output_cell = function(html_output) {\n",
       "    // Return the cell and output element which can be found *uniquely* in the notebook.\n",
       "    // Note - this is a bit hacky, but it is done because the \"notebook_saving.Notebook\"\n",
       "    // IPython event is triggered only after the cells have been serialised, which for\n",
       "    // our purposes (turning an active figure into a static one), is too late.\n",
       "    var cells = IPython.notebook.get_cells();\n",
       "    var ncells = cells.length;\n",
       "    for (var i=0; i<ncells; i++) {\n",
       "        var cell = cells[i];\n",
       "        if (cell.cell_type === 'code'){\n",
       "            for (var j=0; j<cell.output_area.outputs.length; j++) {\n",
       "                var data = cell.output_area.outputs[j];\n",
       "                if (data.data) {\n",
       "                    // IPython >= 3 moved mimebundle to data attribute of output\n",
       "                    data = data.data;\n",
       "                }\n",
       "                if (data['text/html'] == html_output) {\n",
       "                    return [cell, data, j];\n",
       "                }\n",
       "            }\n",
       "        }\n",
       "    }\n",
       "}\n",
       "\n",
       "// Register the function which deals with the matplotlib target/channel.\n",
       "// The kernel may be null if the page has been refreshed.\n",
       "if (IPython.notebook.kernel != null) {\n",
       "    IPython.notebook.kernel.comm_manager.register_target('matplotlib', mpl.mpl_figure_comm);\n",
       "}\n"
      ],
      "text/plain": [
       "<IPython.core.display.Javascript object>"
      ]
     },
     "metadata": {},
     "output_type": "display_data"
    },
    {
     "data": {
      "text/html": [
       "<img src=\"data:image/png;base64,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\" width=\"698.8889074031223\">"
      ],
      "text/plain": [
       "<IPython.core.display.HTML object>"
      ]
     },
     "metadata": {},
     "output_type": "display_data"
    }
   ],
   "source": [
    "fig,axs = plt.subplots(1, figsize=(7,4))\n",
    "axs.clear()\n",
    "tt=axs.quiver(x,y,u,v)\n",
    "axs.axis('equal')\n",
    "axs.set_xlim(-10.5,20.5)\n",
    "axs.set_ylim(-10.5,10.5)\n",
    "plt.show()"
   ]
  },
  {
   "cell_type": "code",
   "execution_count": 789,
   "metadata": {
    "extensions": {
     "jupyter_dashboards": {
      "version": 1,
      "views": {
       "grid_default": {
        "col": 8,
        "height": 6,
        "hidden": false,
        "row": 5,
        "width": 4
       },
       "report_default": {
        "hidden": false
       }
      }
     }
    }
   },
   "outputs": [
    {
     "data": {
      "application/vnd.jupyter.widget-view+json": {
       "model_id": "dbac4486b44144ff949e6a534469c251",
       "version_major": 2,
       "version_minor": 0
      },
      "text/plain": [
       "A Jupyter Widget"
      ]
     },
     "metadata": {},
     "output_type": "display_data"
    },
    {
     "data": {
      "application/vnd.jupyter.widget-view+json": {
       "model_id": "b5e7efeada824f0a95a6de957db77253",
       "version_major": 2,
       "version_minor": 0
      },
      "text/plain": [
       "A Jupyter Widget"
      ]
     },
     "metadata": {},
     "output_type": "display_data"
    },
    {
     "data": {
      "application/vnd.jupyter.widget-view+json": {
       "model_id": "67b3a6d165f14ec0a987095f3da9ba61",
       "version_major": 2,
       "version_minor": 0
      },
      "text/plain": [
       "A Jupyter Widget"
      ]
     },
     "metadata": {},
     "output_type": "display_data"
    },
    {
     "data": {
      "application/vnd.jupyter.widget-view+json": {
       "model_id": "dfdebed129074fe68f8323fc30fb74d3",
       "version_major": 2,
       "version_minor": 0
      },
      "text/plain": [
       "A Jupyter Widget"
      ]
     },
     "metadata": {},
     "output_type": "display_data"
    }
   ],
   "source": [
    "display(dens,line_width, arrow_size,quiver_arrow_scale)\n"
   ]
  },
  {
   "cell_type": "code",
   "execution_count": 790,
   "metadata": {
    "collapsed": true,
    "extensions": {
     "jupyter_dashboards": {
      "version": 1,
      "views": {
       "grid_default": {
        "col": 8,
        "height": 2,
        "hidden": false,
        "row": 0,
        "width": 2
       },
       "report_default": {
        "hidden": true
       }
      }
     }
    }
   },
   "outputs": [],
   "source": [
    "updatebutton=widgets.Button(\n",
    "    description='Update Plot',\n",
    "    disabled=False,\n",
    "    button_style='warning', # 'success', 'info', 'warning', 'danger' or ''\n",
    "    tooltip='Click me'\n",
    ")\n"
   ]
  },
  {
   "cell_type": "code",
   "execution_count": 791,
   "metadata": {
    "extensions": {
     "jupyter_dashboards": {
      "version": 1,
      "views": {
       "grid_default": {
        "col": 8,
        "height": 2,
        "hidden": false,
        "row": 11,
        "width": 3
       },
       "report_default": {
        "hidden": false
       }
      }
     }
    }
   },
   "outputs": [
    {
     "data": {
      "application/vnd.jupyter.widget-view+json": {
       "model_id": "4807117d44d34f9c9edeffdac11d28e6",
       "version_major": 2,
       "version_minor": 0
      },
      "text/plain": [
       "A Jupyter Widget"
      ]
     },
     "metadata": {},
     "output_type": "display_data"
    }
   ],
   "source": [
    "display(updatebutton)\n"
   ]
  },
  {
   "cell_type": "code",
   "execution_count": 792,
   "metadata": {
    "collapsed": true,
    "extensions": {
     "jupyter_dashboards": {
      "version": 1,
      "views": {
       "grid_default": {
        "hidden": true
       },
       "report_default": {
        "hidden": true
       }
      }
     }
    }
   },
   "outputs": [],
   "source": [
    "select_plotstyle=widgets.ToggleButtons(\n",
    "    options=['Streamlines', 'Quiver', 'show both'],\n",
    "    description='Plotstyle:',\n",
    "    disabled=False,\n",
    "    button_style='', # 'success', 'info', 'warning', 'danger' or ''\n",
    "    tooltips=['display streamlines', 'display quivers', 'display quivers and streamlines'],\n",
    "#     icons=['check'] * 3\n",
    ")"
   ]
  },
  {
   "cell_type": "code",
   "execution_count": 793,
   "metadata": {
    "extensions": {
     "jupyter_dashboards": {
      "version": 1,
      "views": {
       "grid_default": {
        "col": 8,
        "height": 3,
        "hidden": false,
        "row": 2,
        "width": 4
       },
       "report_default": {
        "hidden": false
       }
      }
     }
    }
   },
   "outputs": [
    {
     "data": {
      "application/vnd.jupyter.widget-view+json": {
       "model_id": "3be56e30706942719d859f99273070e3",
       "version_major": 2,
       "version_minor": 0
      },
      "text/plain": [
       "A Jupyter Widget"
      ]
     },
     "metadata": {},
     "output_type": "display_data"
    }
   ],
   "source": [
    "display(select_plotstyle)"
   ]
  },
  {
   "cell_type": "code",
   "execution_count": 794,
   "metadata": {
    "extensions": {
     "jupyter_dashboards": {
      "version": 1,
      "views": {
       "grid_default": {
        "col": 8,
        "height": 2,
        "hidden": false,
        "row": 15,
        "width": 4
       },
       "report_default": {
        "hidden": false
       }
      }
     }
    }
   },
   "outputs": [
    {
     "data": {
      "application/vnd.jupyter.widget-view+json": {
       "model_id": "5ce8f9dbcc034cbb9258ed35d2208f05",
       "version_major": 2,
       "version_minor": 0
      },
      "text/plain": [
       "A Jupyter Widget"
      ]
     },
     "metadata": {},
     "output_type": "display_data"
    }
   ],
   "source": [
    "display(u_inf)"
   ]
  },
  {
   "cell_type": "code",
   "execution_count": 795,
   "metadata": {
    "extensions": {
     "jupyter_dashboards": {
      "version": 1,
      "views": {
       "grid_default": {
        "col": 8,
        "height": 2,
        "hidden": false,
        "row": 13,
        "width": 2
       },
       "report_default": {
        "hidden": false
       }
      }
     }
    }
   },
   "outputs": [
    {
     "data": {
      "application/vnd.jupyter.widget-view+json": {
       "model_id": "bded94b1ff464bcd9656eff58b1a4526",
       "version_major": 2,
       "version_minor": 0
      },
      "text/plain": [
       "A Jupyter Widget"
      ]
     },
     "metadata": {},
     "output_type": "display_data"
    }
   ],
   "source": [
    "u_inf_check=widgets.Checkbox(\n",
    "    value=False,\n",
    "    description='Translationsströmung',\n",
    "    disabled=False,\n",
    "    indent=False\n",
    ")\n",
    "display(u_inf_check)"
   ]
  },
  {
   "cell_type": "code",
   "execution_count": 796,
   "metadata": {
    "extensions": {
     "jupyter_dashboards": {
      "version": 1,
      "views": {
       "grid_default": {
        "col": 0,
        "height": 2,
        "hidden": false,
        "row": 24,
        "width": 2
       },
       "report_default": {
        "hidden": false
       }
      }
     }
    }
   },
   "outputs": [
    {
     "data": {
      "application/vnd.jupyter.widget-view+json": {
       "model_id": "94050b113d9d4f5a98a49417a07cc752",
       "version_major": 2,
       "version_minor": 0
      },
      "text/plain": [
       "A Jupyter Widget"
      ]
     },
     "metadata": {},
     "output_type": "display_data"
    }
   ],
   "source": [
    "quelle_check=widgets.Checkbox(\n",
    "    value=False,\n",
    "    description='Quellströmung',\n",
    "    disabled=False,\n",
    "    indent=False\n",
    ")\n",
    "display(quelle_check)"
   ]
  },
  {
   "cell_type": "code",
   "execution_count": 797,
   "metadata": {
    "extensions": {
     "jupyter_dashboards": {
      "version": 1,
      "views": {
       "grid_default": {
        "col": 0,
        "height": 5,
        "hidden": false,
        "row": 26,
        "width": 4
       },
       "report_default": {
        "hidden": false
       }
      }
     }
    }
   },
   "outputs": [
    {
     "data": {
      "application/vnd.jupyter.widget-view+json": {
       "model_id": "5598b77d611c43499c8ad0d8170ef23b",
       "version_major": 2,
       "version_minor": 0
      },
      "text/plain": [
       "A Jupyter Widget"
      ]
     },
     "metadata": {},
     "output_type": "display_data"
    },
    {
     "data": {
      "application/vnd.jupyter.widget-view+json": {
       "model_id": "5abf78740c1c47a7bfe16d838e86f79e",
       "version_major": 2,
       "version_minor": 0
      },
      "text/plain": [
       "A Jupyter Widget"
      ]
     },
     "metadata": {},
     "output_type": "display_data"
    },
    {
     "data": {
      "application/vnd.jupyter.widget-view+json": {
       "model_id": "dd33b428cece4fc6aa8ed8e2185dbda6",
       "version_major": 2,
       "version_minor": 0
      },
      "text/plain": [
       "A Jupyter Widget"
      ]
     },
     "metadata": {},
     "output_type": "display_data"
    }
   ],
   "source": [
    "display(x0quell,y0quell,Lquelle)"
   ]
  },
  {
   "cell_type": "code",
   "execution_count": 798,
   "metadata": {
    "extensions": {
     "jupyter_dashboards": {
      "version": 1,
      "views": {
       "grid_default": {
        "col": 0,
        "height": 2,
        "hidden": false,
        "row": 17,
        "width": 2
       },
       "report_default": {
        "hidden": false
       }
      }
     }
    }
   },
   "outputs": [
    {
     "data": {
      "application/vnd.jupyter.widget-view+json": {
       "model_id": "1f362a1e274c44ecb11b5ccbf94055ad",
       "version_major": 2,
       "version_minor": 0
      },
      "text/plain": [
       "A Jupyter Widget"
      ]
     },
     "metadata": {},
     "output_type": "display_data"
    }
   ],
   "source": [
    "senke_check=widgets.Checkbox(\n",
    "    value=False,\n",
    "    description='Senkströmung',\n",
    "    disabled=False,\n",
    "    indent=False\n",
    ")\n",
    "display(senke_check)"
   ]
  },
  {
   "cell_type": "code",
   "execution_count": 799,
   "metadata": {
    "extensions": {
     "jupyter_dashboards": {
      "version": 1,
      "views": {
       "grid_default": {
        "col": 0,
        "height": 5,
        "hidden": false,
        "row": 19,
        "width": 4
       },
       "report_default": {
        "hidden": false
       }
      }
     }
    }
   },
   "outputs": [
    {
     "data": {
      "application/vnd.jupyter.widget-view+json": {
       "model_id": "22ff4ab99d4b42da80c83a8ad26ba544",
       "version_major": 2,
       "version_minor": 0
      },
      "text/plain": [
       "A Jupyter Widget"
      ]
     },
     "metadata": {},
     "output_type": "display_data"
    },
    {
     "data": {
      "application/vnd.jupyter.widget-view+json": {
       "model_id": "83161f9739fe47008e0cccd9f7eac4f2",
       "version_major": 2,
       "version_minor": 0
      },
      "text/plain": [
       "A Jupyter Widget"
      ]
     },
     "metadata": {},
     "output_type": "display_data"
    },
    {
     "data": {
      "application/vnd.jupyter.widget-view+json": {
       "model_id": "93aeabad17c746798b84b185eb984d01",
       "version_major": 2,
       "version_minor": 0
      },
      "text/plain": [
       "A Jupyter Widget"
      ]
     },
     "metadata": {},
     "output_type": "display_data"
    }
   ],
   "source": [
    "display(x0senk,y0senk,Lsenke)"
   ]
  },
  {
   "cell_type": "code",
   "execution_count": 800,
   "metadata": {
    "extensions": {
     "jupyter_dashboards": {
      "version": 1,
      "views": {
       "grid_default": {
        "col": 4,
        "height": 2,
        "hidden": false,
        "row": 24,
        "width": 2
       },
       "report_default": {
        "hidden": false
       }
      }
     }
    }
   },
   "outputs": [
    {
     "data": {
      "application/vnd.jupyter.widget-view+json": {
       "model_id": "7d8849007257479b8e71c1aa55566ee5",
       "version_major": 2,
       "version_minor": 0
      },
      "text/plain": [
       "A Jupyter Widget"
      ]
     },
     "metadata": {},
     "output_type": "display_data"
    }
   ],
   "source": [
    "dipol_check=widgets.Checkbox(\n",
    "    value=False,\n",
    "    description='Dipolströmung',\n",
    "    disabled=False,\n",
    "    indent=False\n",
    ")\n",
    "display(dipol_check)"
   ]
  },
  {
   "cell_type": "code",
   "execution_count": 801,
   "metadata": {
    "extensions": {
     "jupyter_dashboards": {
      "version": 1,
      "views": {
       "grid_default": {
        "col": 4,
        "height": 5,
        "hidden": false,
        "row": 26,
        "width": 4
       },
       "report_default": {
        "hidden": false
       }
      }
     }
    }
   },
   "outputs": [
    {
     "data": {
      "application/vnd.jupyter.widget-view+json": {
       "model_id": "9185d3f9700b438199f2139d76ca2df0",
       "version_major": 2,
       "version_minor": 0
      },
      "text/plain": [
       "A Jupyter Widget"
      ]
     },
     "metadata": {},
     "output_type": "display_data"
    },
    {
     "data": {
      "application/vnd.jupyter.widget-view+json": {
       "model_id": "d72c05ce49af42f780ba16d0c3cccc61",
       "version_major": 2,
       "version_minor": 0
      },
      "text/plain": [
       "A Jupyter Widget"
      ]
     },
     "metadata": {},
     "output_type": "display_data"
    },
    {
     "data": {
      "application/vnd.jupyter.widget-view+json": {
       "model_id": "b3ed7d0a8d9f4eb0b3a570333a4f1c60",
       "version_major": 2,
       "version_minor": 0
      },
      "text/plain": [
       "A Jupyter Widget"
      ]
     },
     "metadata": {},
     "output_type": "display_data"
    }
   ],
   "source": [
    "display(Radius, x0dipol,y0dipol)"
   ]
  },
  {
   "cell_type": "code",
   "execution_count": 802,
   "metadata": {
    "extensions": {
     "jupyter_dashboards": {
      "version": 1,
      "views": {
       "grid_default": {
        "col": 8,
        "height": 2,
        "hidden": false,
        "row": 24,
        "width": 2
       },
       "report_default": {
        "hidden": false
       }
      }
     }
    }
   },
   "outputs": [
    {
     "data": {
      "application/vnd.jupyter.widget-view+json": {
       "model_id": "581eda5e7bfd4a41ab192fef1344e14b",
       "version_major": 2,
       "version_minor": 0
      },
      "text/plain": [
       "A Jupyter Widget"
      ]
     },
     "metadata": {},
     "output_type": "display_data"
    }
   ],
   "source": [
    "dipol2_check=widgets.Checkbox(\n",
    "    value=False,\n",
    "    description='Dipolströmung 2',\n",
    "    disabled=False,\n",
    "    indent=False\n",
    ")\n",
    "display(dipol2_check)"
   ]
  },
  {
   "cell_type": "code",
   "execution_count": 803,
   "metadata": {
    "extensions": {
     "jupyter_dashboards": {
      "version": 1,
      "views": {
       "grid_default": {
        "col": 8,
        "height": 5,
        "hidden": false,
        "row": 26,
        "width": 4
       },
       "report_default": {
        "hidden": false
       }
      }
     }
    }
   },
   "outputs": [
    {
     "data": {
      "application/vnd.jupyter.widget-view+json": {
       "model_id": "a80d90090fa84c43b32884af559de24f",
       "version_major": 2,
       "version_minor": 0
      },
      "text/plain": [
       "A Jupyter Widget"
      ]
     },
     "metadata": {},
     "output_type": "display_data"
    },
    {
     "data": {
      "application/vnd.jupyter.widget-view+json": {
       "model_id": "036208c48e754e0a8a476b486b0eed38",
       "version_major": 2,
       "version_minor": 0
      },
      "text/plain": [
       "A Jupyter Widget"
      ]
     },
     "metadata": {},
     "output_type": "display_data"
    },
    {
     "data": {
      "application/vnd.jupyter.widget-view+json": {
       "model_id": "d7309468270e4a97af801077f5f81311",
       "version_major": 2,
       "version_minor": 0
      },
      "text/plain": [
       "A Jupyter Widget"
      ]
     },
     "metadata": {},
     "output_type": "display_data"
    }
   ],
   "source": [
    "display(Radius2, x0dipol2,y0dipol2)"
   ]
  },
  {
   "cell_type": "code",
   "execution_count": 804,
   "metadata": {
    "extensions": {
     "jupyter_dashboards": {
      "version": 1,
      "views": {
       "grid_default": {
        "col": 4,
        "height": 2,
        "hidden": false,
        "row": 17,
        "width": 3
       },
       "report_default": {
        "hidden": false
       }
      }
     }
    }
   },
   "outputs": [
    {
     "data": {
      "application/vnd.jupyter.widget-view+json": {
       "model_id": "0fac909594474390ad9efb65aec64bce",
       "version_major": 2,
       "version_minor": 0
      },
      "text/plain": [
       "A Jupyter Widget"
      ]
     },
     "metadata": {},
     "output_type": "display_data"
    }
   ],
   "source": [
    "wirbel_check=widgets.Checkbox(\n",
    "    value=False,\n",
    "    description='Potenzialwirbelströmung',\n",
    "    disabled=False,\n",
    "    indent=False\n",
    ")\n",
    "display(wirbel_check)"
   ]
  },
  {
   "cell_type": "code",
   "execution_count": 805,
   "metadata": {
    "extensions": {
     "jupyter_dashboards": {
      "version": 1,
      "views": {
       "grid_default": {
        "col": 4,
        "height": 5,
        "hidden": false,
        "row": 19,
        "width": 4
       },
       "report_default": {
        "hidden": false
       }
      }
     }
    }
   },
   "outputs": [
    {
     "data": {
      "application/vnd.jupyter.widget-view+json": {
       "model_id": "96e5dd686d48479e9f34d2cd8d7024c7",
       "version_major": 2,
       "version_minor": 0
      },
      "text/plain": [
       "A Jupyter Widget"
      ]
     },
     "metadata": {},
     "output_type": "display_data"
    },
    {
     "data": {
      "application/vnd.jupyter.widget-view+json": {
       "model_id": "2060925d1e6e4820a6a8929ac5bfa571",
       "version_major": 2,
       "version_minor": 0
      },
      "text/plain": [
       "A Jupyter Widget"
      ]
     },
     "metadata": {},
     "output_type": "display_data"
    },
    {
     "data": {
      "application/vnd.jupyter.widget-view+json": {
       "model_id": "b41224d020844a2c913ee99806a58d68",
       "version_major": 2,
       "version_minor": 0
      },
      "text/plain": [
       "A Jupyter Widget"
      ]
     },
     "metadata": {},
     "output_type": "display_data"
    }
   ],
   "source": [
    "display(Gamma_Wirbel,x0wirbel,y0wirbel)"
   ]
  },
  {
   "cell_type": "code",
   "execution_count": 806,
   "metadata": {
    "extensions": {
     "jupyter_dashboards": {
      "version": 1,
      "views": {
       "grid_default": {
        "col": 8,
        "height": 2,
        "hidden": false,
        "row": 17,
        "width": 4
       },
       "report_default": {
        "hidden": false
       }
      }
     }
    }
   },
   "outputs": [
    {
     "data": {
      "application/vnd.jupyter.widget-view+json": {
       "model_id": "c06c6def7b7c48aaa02f3961bcdba095",
       "version_major": 2,
       "version_minor": 0
      },
      "text/plain": [
       "A Jupyter Widget"
      ]
     },
     "metadata": {},
     "output_type": "display_data"
    }
   ],
   "source": [
    "wirbel2_check=widgets.Checkbox(\n",
    "    value=False,\n",
    "    description='Potenzialwirbelströmung 2',\n",
    "    disabled=False,\n",
    "    indent=False\n",
    ")\n",
    "display(wirbel2_check)"
   ]
  },
  {
   "cell_type": "code",
   "execution_count": 807,
   "metadata": {
    "extensions": {
     "jupyter_dashboards": {
      "version": 1,
      "views": {
       "grid_default": {
        "col": 8,
        "height": 5,
        "hidden": false,
        "row": 19,
        "width": 4
       },
       "report_default": {
        "hidden": false
       }
      }
     }
    }
   },
   "outputs": [
    {
     "data": {
      "application/vnd.jupyter.widget-view+json": {
       "model_id": "89a87a8ed4984b80b318f04dd4d30cf7",
       "version_major": 2,
       "version_minor": 0
      },
      "text/plain": [
       "A Jupyter Widget"
      ]
     },
     "metadata": {},
     "output_type": "display_data"
    },
    {
     "data": {
      "application/vnd.jupyter.widget-view+json": {
       "model_id": "220d135bd19545dfb1fc437993f822e0",
       "version_major": 2,
       "version_minor": 0
      },
      "text/plain": [
       "A Jupyter Widget"
      ]
     },
     "metadata": {},
     "output_type": "display_data"
    },
    {
     "data": {
      "application/vnd.jupyter.widget-view+json": {
       "model_id": "b907674906e847d7a74029ca4ede8104",
       "version_major": 2,
       "version_minor": 0
      },
      "text/plain": [
       "A Jupyter Widget"
      ]
     },
     "metadata": {},
     "output_type": "display_data"
    }
   ],
   "source": [
    "display(Gamma_Wirbel2,x0wirbel2,y0wirbel2)"
   ]
  },
  {
   "cell_type": "code",
   "execution_count": 808,
   "metadata": {
    "collapsed": true,
    "extensions": {
     "jupyter_dashboards": {
      "version": 1,
      "views": {
       "grid_default": {
        "col": 0,
        "height": 36,
        "hidden": true,
        "row": 30,
        "width": 7
       },
       "report_default": {
        "hidden": true
       }
      }
     }
    }
   },
   "outputs": [],
   "source": [
    "#df1 = pd.DataFrame(C)\n"
   ]
  },
  {
   "cell_type": "code",
   "execution_count": 809,
   "metadata": {
    "collapsed": true,
    "extensions": {
     "jupyter_dashboards": {
      "version": 1,
      "views": {
       "grid_default": {
        "col": 0,
        "height": 36,
        "hidden": true,
        "row": 66,
        "width": 7
       },
       "report_default": {
        "hidden": true
       }
      }
     }
    }
   },
   "outputs": [],
   "source": [
    "#display(df1)"
   ]
  },
  {
   "cell_type": "raw",
   "metadata": {
    "extensions": {
     "jupyter_dashboards": {
      "version": 1,
      "views": {
       "grid_default": {
        "col": 0,
        "height": 16,
        "hidden": true,
        "row": 31,
        "width": 8
       },
       "report_default": {
        "hidden": false
       }
      }
     }
    }
   },
   "source": [
    "fig, axs = plt.subplots(1 , figsize=(7,4))\n",
    "axs.clear()\n",
    "#tt=axs.streamplot(x,y,u,v, density = dens.value, linewidth=line_width.value,arrowsize=arrow_size.value)\n",
    "tt=axs.quiver(x,y,u,v)#, density = dens.value, linewidth=line_width.value,arrowsize=arrow_size.value)\n",
    "axs.axis('equal')\n",
    "axs.set_xlim(-10.5, 20.5)\n",
    "axs.set_ylim(-10.5, 10.5)    \n",
    "plt.show() "
   ]
  },
  {
   "cell_type": "code",
   "execution_count": 810,
   "metadata": {
    "collapsed": true,
    "extensions": {
     "jupyter_dashboards": {
      "version": 1,
      "views": {
       "grid_default": {
        "hidden": true
       },
       "report_default": {
        "hidden": true
       }
      }
     }
    }
   },
   "outputs": [],
   "source": [
    "#def update_plots(change):\n",
    "def on_button_clicked(b):\n",
    "    axs.clear()\n",
    "    \n",
    "    #parallelströmung\n",
    "    psi_Trans = u_inf.value*r*np.sin(theta)\n",
    "    u_r = u_inf.value*np.cos(theta+alpha)\n",
    "    u_theta = -u_inf.value*np.sin(theta+alpha)\n",
    "    ut=np.zeros(u_r.shape)\n",
    "    vt=np.zeros(u_r.shape)\n",
    "    for i in range(u_r.shape[0]):\n",
    "        for j in range(u_r.shape[1]):\n",
    "            erg = np.dot(np.array([[np.cos(theta[i,j]), np.sin(theta[i,j])], [-np.sin(theta[i,j]),np.cos(theta[i,j])]]).T , np.array([u_r[i,j],u_theta[i,j]]).T)\n",
    "            ut[i,j] = erg[0]\n",
    "            vt[i,j] = erg[1]\n",
    "    if u_inf_check.value==True:\n",
    "        u = ut\n",
    "        v = vt\n",
    "    else: \n",
    "        u = 0*ut\n",
    "        v = 0*vt\n",
    "        \n",
    "\n",
    "    #Quellströmung\n",
    "    Lquell=Lquelle.value*np.pi\n",
    "    r_quell = np.sqrt((X-x0quell.value)**2+(Y-y0quell.value)**2)\n",
    "    theta_quell=np.zeros(r_quell.shape)\n",
    "    theta_quell[X-x0quell.value>0] = np.arcsin((Y-y0quell.value)/r_quell)[X-x0quell.value>0]\n",
    "    theta_quell[X-x0quell.value<=0] = np.pi-np.arcsin((Y-y0quell.value)/r_quell)[X-x0quell.value<=0]\n",
    "    psi_quell = Lquell/2/np.pi*theta_quell\n",
    "    u_r_quell = 1/r_quell*Lquell/2/np.pi\n",
    "    u_theta_quell = np.zeros(u_r_quell.shape)\n",
    "    u_quellt=np.zeros(u_r_quell.shape)\n",
    "    v_quellt=np.zeros(u_r_quell.shape)\n",
    "    for i in range(u_r_quell.shape[0]):\n",
    "        for j in range(u_r_quell.shape[1]):\n",
    "            erg = np.dot(np.array([[np.cos(theta_quell[i,j]), np.sin(theta_quell[i,j])], [-np.sin(theta_quell[i,j]),np.cos(theta_quell[i,j])]]).T, np.array([u_r_quell[i,j], u_theta_quell[i,j]]))\n",
    "            u_quellt[i,j] = erg[0]\n",
    "            v_quellt[i,j] = erg[1]\n",
    "    if quelle_check.value==True:\n",
    "        u_quell = u_quellt\n",
    "        v_quell = v_quellt\n",
    "        axs.fill(0.3*np.cos(np.arange(0,2*np.pi,np.pi/100))+x0quell.value,0.3*np.sin(np.arange(0,2*np.pi,np.pi/100))+y0quell.value,color='r',zorder=10)\n",
    "    else: \n",
    "        u_quell = 0*u_quellt\n",
    "        v_quell = 0*v_quellt\n",
    "        \n",
    "        \n",
    "    #Senkstroemung\n",
    "    Lsenk=Lsenke.value*np.pi\n",
    "    r_senk = np.sqrt((X-x0senk.value)**2+(Y-y0senk.value)**2)\n",
    "    theta_senk=np.zeros(r_senk.shape)\n",
    "    theta_senk[X-x0senk.value>0] = np.arcsin((Y-y0senk.value)/r_senk)[X-x0senk.value>0]\n",
    "    theta_senk[X-x0senk.value<=0]= np.pi-np.arcsin((Y-y0senk.value)/r_senk)[X-x0senk.value<=0]            \n",
    "    psi_senk = Lsenk/2/np.pi*theta_senk\n",
    "    u_r_senk = 1/r_senk*Lsenk/2/np.pi\n",
    "    u_theta_senk = np.zeros(u_r_senk.shape)\n",
    "    u_senkt=np.zeros(u_r_senk.shape)\n",
    "    v_senkt=np.zeros(u_r_senk.shape)\n",
    "    for i in range(u_r_senk.shape[0]):\n",
    "        for j in range(u_r_senk.shape[1]):\n",
    "            erg = np.dot(np.array([[np.cos(theta_senk[i,j]),np.sin(theta_senk[i,j])],[-np.sin(theta_senk[i,j]), np.cos(theta_senk[i,j])]]).T, np.array([u_r_senk[i,j],u_theta_senk[i,j]]))\n",
    "            u_senkt[i,j] = erg[0]\n",
    "            v_senkt[i,j] = erg[1]\n",
    "    if senke_check.value==True:\n",
    "        u_senk = u_senkt\n",
    "        v_senk = v_senkt\n",
    "        axs.fill(0.3*np.cos(np.arange(0,2*np.pi,np.pi/100))+x0senk.value,0.3*np.sin(np.arange(0,2*np.pi,np.pi/100))+y0senk.value,color='r',zorder=10)\n",
    "    else: \n",
    "        u_senk = 0*u_senkt\n",
    "        v_senk = 0*v_senkt        \n",
    "\n",
    "    #Dipolströmung\n",
    "    k=u_inf.value*2*np.pi*Radius.value**2\n",
    "    r_dipol = np.sqrt((X-x0dipol.value)**2+(Y-y0dipol.value)**2)\n",
    "    theta_dipol=np.zeros(r_dipol.shape)\n",
    "    theta_dipol[X-x0dipol.value<=0]= np.arcsin((Y-y0dipol.value)/r_dipol)[X-x0dipol.value<=0]\n",
    "    theta_dipol[X-x0dipol.value>0]= np.pi-np.arcsin((Y-y0dipol.value)/r_dipol)[X-x0dipol.value>0]\n",
    "    psi_dipol = -k/2/np.pi*np.sin(theta_dipol)/r_dipol\n",
    "    u_r_dipol = 1/r_dipol**2*(-k/2/np.pi*np.cos(theta_dipol))\n",
    "    u_theta_dipol = k/2/np.pi*np.sin(theta_dipol)*r_dipol**-2\n",
    "    u_dipolt=np.zeros(u_r_dipol.shape)\n",
    "    v_dipolt=np.zeros(u_r_dipol.shape)\n",
    "    for i in range(u_r_dipol.shape[0]):\n",
    "        for j in range(u_r_dipol.shape[1]):\n",
    "            erg = np.dot(np.array([[np.cos(theta_dipol[i,j]), np.sin(theta_dipol[i,j])],[-np.sin(theta_dipol[i,j]), np.cos(theta_dipol[i,j])]])  , np.array([u_r_dipol[i,j],u_theta_dipol[i,j]]))\n",
    "            u_dipolt[i,j] = erg[0]\n",
    "            v_dipolt[i,j] = erg[1]\n",
    "    if dipol_check.value==True:\n",
    "        u_dipol = u_dipolt\n",
    "        v_dipol = v_dipolt\n",
    "        axs.fill(Radius.value*np.cos(np.linspace(0,2*np.pi,100))+x0dipol.value,Radius.value*np.sin(np.linspace(0,2*np.pi,100))+y0dipol.value,color='r',zorder=10)\n",
    "\n",
    "    else: \n",
    "        u_dipol = 0*u_dipolt\n",
    "        v_dipol = 0*v_dipolt\n",
    "        \n",
    "    #Dipolströmung 2\n",
    "    k=u_inf.value*2*np.pi*Radius2.value**2\n",
    "    r_dipol = np.sqrt((X-x0dipol2.value)**2+(Y-y0dipol2.value)**2)\n",
    "    theta_dipol=np.zeros(r_dipol.shape)\n",
    "    theta_dipol[X-x0dipol2.value<=0]= np.arcsin((Y-y0dipol2.value)/r_dipol)[X-x0dipol2.value<=0]\n",
    "    theta_dipol[X-x0dipol2.value>0]= np.pi-np.arcsin((Y-y0dipol2.value)/r_dipol)[X-x0dipol2.value>0]\n",
    "    psi_dipol = -k/2/np.pi*np.sin(theta_dipol)/r_dipol\n",
    "    u_r_dipol = 1/r_dipol**2*(-k/2/np.pi*np.cos(theta_dipol))\n",
    "    u_theta_dipol = k/2/np.pi*np.sin(theta_dipol)*r_dipol**-2\n",
    "    u_dipolt=np.zeros(u_r_dipol.shape)\n",
    "    v_dipolt=np.zeros(u_r_dipol.shape)\n",
    "    for i in range(u_r_dipol.shape[0]):\n",
    "        for j in range(u_r_dipol.shape[1]):\n",
    "            erg = np.dot(np.array([[np.cos(theta_dipol[i,j]), np.sin(theta_dipol[i,j])],[-np.sin(theta_dipol[i,j]), np.cos(theta_dipol[i,j])]])  , np.array([u_r_dipol[i,j],u_theta_dipol[i,j]]).T)\n",
    "            u_dipolt[i,j] = erg[0]\n",
    "            v_dipolt[i,j] = erg[1]\n",
    "    if dipol2_check.value==True:\n",
    "        u_dipol2 = u_dipolt\n",
    "        v_dipol2 = v_dipolt\n",
    "        axs.fill(Radius2.value*np.cos(np.linspace(0,2*np.pi,100))+x0dipol2.value,Radius2.value*np.sin(np.linspace(0,2*np.pi,100))+y0dipol2.value,color='r',zorder=10)\n",
    "\n",
    "    else: \n",
    "        u_dipol2 = 0*u_dipolt\n",
    "        v_dipol2 = 0*v_dipolt    \n",
    "        \n",
    "    #Potenzialwirbel\n",
    "    gamma=Gamma_Wirbel.value*np.pi\n",
    "    r_wirbel = np.sqrt((X-x0wirbel.value)**2+(Y-y0wirbel.value)**2)\n",
    "    theta_wirbel=np.zeros(r_wirbel.shape)\n",
    "    theta_wirbel[X-x0wirbel.value<=0]= np.arcsin((Y-y0wirbel.value)/r_wirbel)[X-x0wirbel.value<=0]\n",
    "    theta_wirbel[X-x0wirbel.value>0]= np.pi-np.arcsin((Y-y0wirbel.value)/r_wirbel)[X-x0wirbel.value>0]\n",
    "    psi_wirbel = -gamma/2/np.pi*np.log(r_wirbel)\n",
    "    u_theta_wirbel = gamma/2/np.pi/r_wirbel\n",
    "    u_r_wirbel = np.zeros(u_theta_wirbel.shape)\n",
    "    u_wirbelt=np.zeros(u_r_wirbel.shape)\n",
    "    v_wirbelt=np.zeros(u_r_wirbel.shape)\n",
    "    for i in range(u_r_wirbel.shape[0]):\n",
    "        for j in range(u_r_wirbel.shape[1]):\n",
    "            erg = np.dot(np.array([[np.cos(theta_wirbel[i,j]),np.sin(theta_wirbel[i,j])],[ -np.sin(theta_wirbel[i,j]), np.cos(theta_wirbel[i,j])]]) , np.array([u_r_wirbel[i,j],u_theta_wirbel[i,j]]).T)\n",
    "            u_wirbelt[i,j] = erg[0]\n",
    "            v_wirbelt[i,j] = erg[1]\n",
    "    if wirbel_check.value==True:\n",
    "        u_wirbel = u_wirbelt\n",
    "        v_wirbel = v_wirbelt\n",
    "        axs.fill(0.3*np.cos(np.arange(0,2*np.pi,np.pi/100))+x0wirbel.value,0.3*np.sin(np.arange(0,2*np.pi,np.pi/100))+y0wirbel.value,color='r',zorder=10)\n",
    "    else: \n",
    "        u_wirbel = 0*u_wirbelt\n",
    "        v_wirbel = 0*v_wirbelt            \n",
    "     \n",
    "    #Potenzialwirbel 2\n",
    "    gamma=Gamma_Wirbel2.value*np.pi\n",
    "    r_wirbel = np.sqrt((X-x0wirbel2.value)**2+(Y-y0wirbel2.value)**2)\n",
    "    theta_wirbel=np.zeros(r_wirbel.shape)\n",
    "    theta_wirbel[X-x0wirbel2.value<=0]= np.arcsin((Y-y0wirbel2.value)/r_wirbel)[X-x0wirbel2.value<=0]\n",
    "    theta_wirbel[X-x0wirbel2.value>0]= np.pi-np.arcsin((Y-y0wirbel2.value)/r_wirbel)[X-x0wirbel2.value>0]\n",
    "    psi_wirbel = -gamma/2/np.pi*np.log(r_wirbel)\n",
    "    u_theta_wirbel = gamma/2/np.pi/r_wirbel\n",
    "    u_r_wirbel = np.zeros(u_theta_wirbel.shape)\n",
    "    u_wirbelt=np.zeros(u_r_wirbel.shape)\n",
    "    v_wirbelt=np.zeros(u_r_wirbel.shape)\n",
    "    for i in range(u_r_wirbel.shape[0]):\n",
    "        for j in range(u_r_wirbel.shape[1]):\n",
    "            erg = np.dot(np.array([[np.cos(theta_wirbel[i,j]),np.sin(theta_wirbel[i,j])],[ -np.sin(theta_wirbel[i,j]), np.cos(theta_wirbel[i,j])]]) , np.array([u_r_wirbel[i,j],u_theta_wirbel[i,j]]).T)\n",
    "            u_wirbelt[i,j] = erg[0]\n",
    "            v_wirbelt[i,j] = erg[1]\n",
    "    if wirbel2_check.value==True:\n",
    "        u_wirbel2 = u_wirbelt\n",
    "        v_wirbel2 = v_wirbelt\n",
    "        axs.fill(0.3*np.cos(np.arange(0,2*np.pi,np.pi/100))+x0wirbel2.value,0.3*np.sin(np.arange(0,2*np.pi,np.pi/100))+y0wirbel2.value,color='r',zorder=10)\n",
    "    else: \n",
    "        u_wirbel2 = 0*u_wirbelt\n",
    "        v_wirbel2 = 0*v_wirbelt            \n",
    "    \n",
    "    U=u+u_quell+u_senk+u_dipol+u_dipol2+u_wirbel+u_wirbel2\n",
    "    V=v+v_quell+v_senk+v_dipol+v_dipol2+v_wirbel+v_wirbel2\n",
    "    C=((U)**2+ (V)**2)**0.5\n",
    "    U[C>4*u_inf.value]=0.001\n",
    "    V[C>4*u_inf.value]=0.001\n",
    "    tt = axs.contourf(X,Y,C, levels=np.linspace(0,10,101), cmap='Greys')#, density = dens.value, linewidth=line_width.value,arrowsize=arrow_size.value)\n",
    "    if select_plotstyle.value=='Quiver':\n",
    "        arrdens=11-dens.value\n",
    "        tt = axs.quiver(X[::arrdens,::arrdens], Y[::arrdens,::arrdens], U[::arrdens,::arrdens], V[::arrdens,::arrdens],units='xy', scale=6-quiver_arrow_scale.value, zorder=3, color='black',width=line_width.value/10, headwidth=arrow_size.value*3., headlength=arrow_size.value*4.)\n",
    "        #tt = axs.quiver(x,y,U,V,units='xy', scale=2., zorder=3, color='black',width=0.05, headwidth=3., headlength=4.)#, density = dens.value, linewidth=line_width.value,arrowsize=arrow_size.value)\n",
    "    elif select_plotstyle.value=='Streamlines':\n",
    "        tt = axs.streamplot(x,y,U,V, density = (dens.value)/10, linewidth=line_width.value,arrowsize=arrow_size.value, color='k')\n",
    "    elif select_plotstyle.value=='show both':\n",
    "        tt = axs.streamplot(x,y,U,V, density = (dens.value)/10, linewidth=line_width.value,arrowsize=arrow_size.value, color='k')\n",
    "        arrdens=11-dens.value\n",
    "        tt = axs.quiver(X[::arrdens,::arrdens], Y[::arrdens,::arrdens], U[::arrdens,::arrdens], V[::arrdens,::arrdens],units='xy', scale=6-quiver_arrow_scale.value, zorder=3, color='black',width=line_width.value/10, headwidth=arrow_size.value*3., headlength=arrow_size.value*4.)\n",
    "        \n",
    "    #\n",
    "    #tt = axs.contourf(theta)\n",
    "    minC1=sorted(list(C.ravel()))[0]\n",
    "    minC2=sorted(list(C.ravel()))[1]\n",
    "    #tt = axs.plot(X[C==minC1],Y[C==minC1],'or')\n",
    "    #tt = axs.plot(X[C==minC2],Y[C==minC2]-0.1,'or')\n",
    "    \n",
    "    #seed_points= [ [np.squeeze(X[C==minC1]),np.squeeze(Y[C==minC1])], [np.squeeze(X[C==minC2]),np.squeeze(Y[C==minC2])]]#np.array([ [1,1] , [ X[C==C.min()],Y[C==C.min()]+1 ]])\n",
    "\n",
    "    #tt = axs.streamplot(x,y,U,V, start_points=seed_points, linewidth=2,arrowsize=0.0001, color='r')\n",
    "    #psi_plot=psi_Trans+psi_quell\n",
    "    #psi_plot_transf=\n",
    "    #tt = axs.contour(X, Y, psi_plot_transform,levels=[0])\n",
    "    axs.set_xlim(-10.5, 20.5)\n",
    "    axs.set_ylim(-10.5, 10.5)  \n",
    "    \n",
    "    \n",
    "    \n",
    "    \n",
    "    #df1 = pd.DataFrame(C)\n",
    "    #display(df1)  \n",
    "    \n",
    "updatebutton.on_click(on_button_clicked)\n",
    "#dens.observe(update_plots,'value')"
   ]
  }
 ],
 "metadata": {
  "extensions": {
   "jupyter_dashboards": {
    "activeView": "grid_default",
    "version": 1,
    "views": {
     "grid_default": {
      "cellMargin": 10,
      "defaultCellHeight": 20,
      "maxColumns": 12,
      "name": "grid",
      "type": "grid"
     },
     "report_default": {
      "name": "report",
      "type": "report"
     }
    }
   }
  },
  "kernelspec": {
   "display_name": "Python 3",
   "language": "python",
   "name": "python3"
  },
  "language_info": {
   "codemirror_mode": {
    "name": "ipython",
    "version": 3
   },
   "file_extension": ".py",
   "mimetype": "text/x-python",
   "name": "python",
   "nbconvert_exporter": "python",
   "pygments_lexer": "ipython3",
   "version": "3.6.2"
  }
 },
 "nbformat": 4,
 "nbformat_minor": 2
}
